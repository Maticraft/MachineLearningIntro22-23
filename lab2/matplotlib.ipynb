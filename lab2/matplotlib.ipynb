{
 "cells": [
  {
   "cell_type": "markdown",
   "metadata": {},
   "source": [
    "# Matplotlib exercises"
   ]
  },
  {
   "cell_type": "code",
   "execution_count": null,
   "metadata": {},
   "outputs": [],
   "source": [
    "import matplotlib.pyplot as plt\n",
    "import numpy as np\n",
    "%matplotlib inline\n",
    "\n",
    "fig = plt.figure(1)"
   ]
  },
  {
   "cell_type": "markdown",
   "metadata": {},
   "source": [
    "### Task 1 (1 pt) \n",
    "a) Use `matplotlib` to plot $\\sin(x)$ for $x \\in [0,10]$."
   ]
  },
  {
   "cell_type": "code",
   "execution_count": null,
   "metadata": {},
   "outputs": [],
   "source": []
  },
  {
   "cell_type": "markdown",
   "metadata": {},
   "source": [
    "b) Increase the limit in the $y$ axis to $[-1,11]$. The plotted line should remain in the limit $[0,10]$."
   ]
  },
  {
   "cell_type": "code",
   "execution_count": null,
   "metadata": {},
   "outputs": [],
   "source": []
  },
  {
   "cell_type": "markdown",
   "metadata": {},
   "source": [
    "c) Set the $y$ axis back to $[-1,1]$, using the get-current-axes (`gca`) function."
   ]
  },
  {
   "cell_type": "code",
   "execution_count": null,
   "metadata": {},
   "outputs": [],
   "source": []
  },
  {
   "cell_type": "markdown",
   "metadata": {},
   "source": [
    "d) Add labels to the axis with a font size of 14."
   ]
  },
  {
   "cell_type": "code",
   "execution_count": null,
   "metadata": {},
   "outputs": [],
   "source": []
  },
  {
   "cell_type": "markdown",
   "metadata": {},
   "source": [
    "### Task 2 (1.0 pt) \n",
    "Use the previous plot. \n",
    "\n",
    "a) Set the positions of the ticks and their labels on the $x$ axis at 0.5, 1.5, 2.5, ... 9.5. Make the font size of the tick labels 12. Use the functions `xticks()`."
   ]
  },
  {
   "cell_type": "code",
   "execution_count": null,
   "metadata": {},
   "outputs": [],
   "source": []
  },
  {
   "cell_type": "markdown",
   "metadata": {},
   "source": [
    "b) Draw grid lines using the yticks only."
   ]
  },
  {
   "cell_type": "code",
   "execution_count": null,
   "metadata": {},
   "outputs": [],
   "source": []
  },
  {
   "cell_type": "markdown",
   "metadata": {},
   "source": [
    "### Task 3 (1.0 pt)\n",
    "Plot (on the same figure) $\\sin(x) and $\\cos(x)$ for $x \\in [0,10]$. Use the following properties: square markers, dashed line, blue color, width of 3. Set the title of the figure to \"Trigonometric functions\". Set the appropriate legend."
   ]
  },
  {
   "cell_type": "code",
   "execution_count": null,
   "metadata": {},
   "outputs": [],
   "source": []
  },
  {
   "cell_type": "markdown",
   "metadata": {},
   "source": [
    "### Task 4 (1.0 pt) \n",
    "Use `subplots` to create six plots in the same figure, using two row and three column configuration. Plot $\\sin(x)$, $\\cos(x)$ or any any custom function in these plots. The plots should be correctly labeled and have the appropriate limits for easy viewing."
   ]
  },
  {
   "cell_type": "code",
   "execution_count": null,
   "metadata": {},
   "outputs": [],
   "source": []
  },
  {
   "cell_type": "markdown",
   "metadata": {},
   "source": [
    "### Task 5 (1.0 pt)\n",
    "Using `np.random.normal` with different centers and std, plot (on the same plot), 10 different distributions. Each distribution should have at least 2048 samples and you should use 100 bins for that. (Make it look appealing visually: a good choice is to select a small range of centres and a small range of standard deviations, and use a low `alpha=` parameter.)"
   ]
  },
  {
   "cell_type": "code",
   "execution_count": null,
   "metadata": {},
   "outputs": [],
   "source": []
  },
  {
   "cell_type": "markdown",
   "metadata": {},
   "source": [
    "### Task 6 (1.0 pt)\n",
    "\n",
    "Using the following functions to generate lines, use `fill_between` to fill regions between these lines in different combinations, i.e. use separate fill between $y_1$ and $y_2$, between $y_2$ and $y_3$, and between $y_1$ and $y_3$. For each area use a different color and use a good parameter `alpha` (by trial and errors) to make all areas visible.\n",
    "\n",
    "The lines are given by:\n",
    "\n",
    "$y_1=x^2-5$\n",
    "\n",
    "$y_2=e^x+2$\n",
    "\n",
    "$y_3=cos(x)$\n",
    "\n",
    "\n",
    "where $x \\in [0,3]$."
   ]
  },
  {
   "cell_type": "code",
   "execution_count": null,
   "metadata": {},
   "outputs": [],
   "source": []
  },
  {
   "cell_type": "markdown",
   "metadata": {},
   "source": [
    "### Task 7 (1.5 pt)\n",
    "The shape of a limaçon can be defined parametrically as\n",
    "\n",
    "$r = r_0 + \\cos\\theta$\n",
    "\n",
    "$x  = r \\cos\\theta$\n",
    "\n",
    "$y  = r \\sin\\theta$\n",
    "\n",
    "\n",
    "When $r_0 = 1$, this curve is called a cardioid. Use this definition to plot the shape of a limaçon for $r_0 = 0.8$, $r_0 = 1.0$, and $r_0 = 1.2$. Be sure to use enough points that the curve is closed and appears smooth (except for the cusp in the cardioid). Use a legend to identify which curve is which. Save the plot as a `.pdf` file."
   ]
  },
  {
   "cell_type": "code",
   "execution_count": null,
   "metadata": {},
   "outputs": [],
   "source": []
  }
 ],
 "metadata": {
  "kernelspec": {
   "display_name": "Python 3.9.4 ('ML_pytorch')",
   "language": "python",
   "name": "python3"
  },
  "language_info": {
   "codemirror_mode": {
    "name": "ipython",
    "version": 3
   },
   "file_extension": ".py",
   "mimetype": "text/x-python",
   "name": "python",
   "nbconvert_exporter": "python",
   "pygments_lexer": "ipython3",
   "version": "3.9.4"
  },
  "vscode": {
   "interpreter": {
    "hash": "929619df38edafcb639067bc1593fc1a1a9b049525cf7e96331131a0abd5060a"
   }
  }
 },
 "nbformat": 4,
 "nbformat_minor": 4
}
