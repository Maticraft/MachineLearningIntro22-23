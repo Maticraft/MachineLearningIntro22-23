{
 "cells": [
  {
   "cell_type": "markdown",
   "metadata": {},
   "source": [
    "## Logistic Regression"
   ]
  },
  {
   "cell_type": "markdown",
   "metadata": {},
   "source": [
    "In short Logistic Regression is a classification algorithm used to assign observations to a discrete set of classes. It is a predictive analysis algorithm and based on the concept of probability. It is used to predict a binary outcome (1 / 0, Yes / No, True / False) given a set of independent variables."
   ]
  },
  {
   "cell_type": "markdown",
   "metadata": {},
   "source": [
    "To understand the concept of Logistic Regression, we need to understand the sigmoid function. The sigmoid function is a mathematical function having a characteristic \"S\"-shaped curve or sigmoid curve. It is defined as:\n",
    "\n",
    "$$\\sigma(x) = \\frac{1}{1+e^{-x}}$$\n",
    "\n",
    "The sigmoid function is a special case of the logistic function and was first defined by statisticians to model population growth in ecology, rising quickly and maxing out at the carrying capacity of the environment. The logistic function is also known as the \"logit\" function because it is the log of the odds of the outcome.\n",
    "\n",
    "The sigmoid function is used in Logistic Regression because it can take any real-valued number and map it into a value between 0 and 1, but never exactly at those limits. This is useful because we can interpret the output as a probability.\n",
    "\n",
    "The sigmoid function is also a differentiable function, which means that we can find the slope of the sigmoid function at any point on the curve. This is useful because we can use the slope of the sigmoid function as the derivative of the cost function, which we will use to train our model.\n",
    "\n",
    "The cost function for Logistic Regression is:\n",
    "\n",
    "$$J(\\theta) = -\\frac{1}{m}\\sum_{i=1}^{m}y^{(i)}\\log(h_{\\theta}(x^{(i)})) + (1-y^{(i)})\\log(1-h_{\\theta}(x^{(i)}))$$\n",
    "\n",
    "Where:\n",
    "\n",
    "* $h_{\\theta}(x^{(i)})$ is the hypothesis for the $i^{th}$ training example, which is equal to  $\\sigma(\\theta^Tx^{(i)})$ and $\\theta$ is the parameter vector.\n",
    "* $y^{(i)}$ is the actual output for the $i^{th}$ training example\n",
    "* $m$ is the number of training examples\n",
    "\n",
    "The cost function is convex, which means that it has one global minimum. No matter where you initialize your parameters, you will always reach the global minimum.\n",
    "\n",
    "The cost function is also differentiable, which means that we can use gradient descent to find the values of $\\theta$ that minimize the cost function.\n",
    "\n",
    "The gradient of the cost function is a vector of the same length as $\\theta$ where the $j^{th}$ element (for $j = 0, 1, \\dots, n$) is defined as follows:\n",
    "\n",
    "$$\\frac{\\partial J(\\theta)}{\\partial \\theta_{j}} = \\frac{1}{m}\\sum_{i=1}^{m}(h_{\\theta}(x^{(i)}) - y^{(i)})x_{j}^{(i)}$$\n",
    "\n",
    "The gradient descent update rule is:\n",
    "\n",
    "$$\\theta_{j} := \\theta_{j} - \\alpha\\frac{\\partial J(\\theta)}{\\partial \\theta_{j}}$$\n",
    "\n",
    "Where:\n",
    "\n",
    "$\\alpha$ is the learning rate\n",
    "\n",
    "$\\theta_{j}$ is the $j^{th}$ parameter of $\\theta$\n",
    "\n",
    "$\\frac{\\partial J(\\theta)}{\\partial \\theta_{j}}$ is the partial derivative of the cost function with respect to $\\theta_{j}$\n",
    "\n",
    "The learning rate $\\alpha$ determines how quickly we update the parameters. If the learning rate is too large we may \"overshoot\" the minimum. It is possible to use an adaptive learning rate that decreases over time.\n",
    "\n",
    "The following code implements the vectorized version of the Logistic Regression from scratch using Python. Apart from the $\\theta$ vector, the code uses also the bias term $b$."
   ]
  },
  {
   "cell_type": "code",
   "execution_count": 1,
   "metadata": {},
   "outputs": [],
   "source": [
    "# Importing libraries\n",
    "import numpy as np\n",
    "import pandas as pd\n",
    "from sklearn.model_selection import train_test_split\n",
    "import warnings\n",
    "warnings.filterwarnings( \"ignore\" )\n",
    "\n",
    "# to compare our model's accuracy with sklearn model\n",
    "from sklearn.linear_model import LogisticRegression\n",
    "from sklearn.metrics import accuracy_score, balanced_accuracy_score\n",
    "\n",
    "# Logistic Regression\n",
    "class LogitRegression() :\n",
    "\tdef __init__(self, learning_rate, iterations):\t\t\n",
    "\t\tself.learning_rate = learning_rate\t\t\n",
    "\t\tself.iterations = iterations\n",
    "\t\t\n",
    "\t# Function for model training\t\n",
    "\tdef fit(self, X, Y) :\t\t\n",
    "\t\t# no_of_training_examples, no_of_features\t\t\n",
    "\t\tself.m, self.n = X.shape\t\t\n",
    "\t\t# weight initialization\t\t\n",
    "\t\tself.Theta = np.zeros((self.n, 1))\t\t\n",
    "\t\tself.b = 0\t\t\n",
    "\t\tself.X = X\t\t\n",
    "\t\tself.Y = Y\n",
    "\t\t\n",
    "\t\t# gradient descent learning\n",
    "\t\tfor i in range( self.iterations ):\t\t\t\n",
    "\t\t\tself.update_weights()\t\t\t\n",
    "\t\treturn self\n",
    "\t\n",
    "\t# Helper function to update weights in gradient descent\n",
    "\t\n",
    "\tdef update_weights(self):\t\t\n",
    "\t\tZ = self.X.dot(self.Theta) + self.b\n",
    "\t\th = self.sigmoid(Z)\n",
    "\n",
    "\t\tassert h.shape == (self.m, 1)\n",
    "\t\t\n",
    "\t\t# calculate gradients\t\t\n",
    "\t\tdTheta = self.X.T.dot(h - self.Y) / self.m\n",
    "\t\tdb = np.sum(h - self.Y) / self.m\n",
    "\t\t\n",
    "\t\tassert dTheta.shape == (self.n, 1)\n",
    "\n",
    "\t\t# update weights\n",
    "\t\tself.Theta = self.Theta - self.learning_rate * dTheta\t\n",
    "\t\tself.b = self.b - self.learning_rate * db\n",
    "\t\t\n",
    "\t\treturn self\n",
    "\n",
    "\tdef sigmoid(self, x) :\n",
    "\t\treturn 1 / (1 + np.exp(-x))\t\n",
    "\t\n",
    "\t# Hypothetical function h( x )\n",
    "\tdef predict(self, X) :\t\n",
    "\t\tZ =  X.dot(self.Theta) + self.b\n",
    "\t\th = self.sigmoid(Z)\n",
    "\t\tpredictions = np.where(h > 0.5, 1, 0)\t\t\n",
    "\t\treturn predictions"
   ]
  },
  {
   "cell_type": "code",
   "execution_count": 2,
   "metadata": {},
   "outputs": [],
   "source": [
    "# Importing dataset\t\n",
    "df = pd.read_csv( \"diabetes.csv\" )\n",
    "X = df.iloc[:,:-1].values\n",
    "Y = df.iloc[:,-1:].values"
   ]
  },
  {
   "cell_type": "code",
   "execution_count": 3,
   "metadata": {},
   "outputs": [
    {
     "data": {
      "text/html": [
       "<div>\n",
       "<style scoped>\n",
       "    .dataframe tbody tr th:only-of-type {\n",
       "        vertical-align: middle;\n",
       "    }\n",
       "\n",
       "    .dataframe tbody tr th {\n",
       "        vertical-align: top;\n",
       "    }\n",
       "\n",
       "    .dataframe thead th {\n",
       "        text-align: right;\n",
       "    }\n",
       "</style>\n",
       "<table border=\"1\" class=\"dataframe\">\n",
       "  <thead>\n",
       "    <tr style=\"text-align: right;\">\n",
       "      <th></th>\n",
       "      <th>Pregnancies</th>\n",
       "      <th>Glucose</th>\n",
       "      <th>BloodPressure</th>\n",
       "      <th>SkinThickness</th>\n",
       "      <th>Insulin</th>\n",
       "      <th>BMI</th>\n",
       "      <th>DiabetesPedigreeFunction</th>\n",
       "      <th>Age</th>\n",
       "      <th>Outcome</th>\n",
       "    </tr>\n",
       "  </thead>\n",
       "  <tbody>\n",
       "    <tr>\n",
       "      <th>0</th>\n",
       "      <td>6</td>\n",
       "      <td>148</td>\n",
       "      <td>72</td>\n",
       "      <td>35</td>\n",
       "      <td>0</td>\n",
       "      <td>33.6</td>\n",
       "      <td>0.627</td>\n",
       "      <td>50</td>\n",
       "      <td>1</td>\n",
       "    </tr>\n",
       "    <tr>\n",
       "      <th>1</th>\n",
       "      <td>1</td>\n",
       "      <td>85</td>\n",
       "      <td>66</td>\n",
       "      <td>29</td>\n",
       "      <td>0</td>\n",
       "      <td>26.6</td>\n",
       "      <td>0.351</td>\n",
       "      <td>31</td>\n",
       "      <td>0</td>\n",
       "    </tr>\n",
       "    <tr>\n",
       "      <th>2</th>\n",
       "      <td>8</td>\n",
       "      <td>183</td>\n",
       "      <td>64</td>\n",
       "      <td>0</td>\n",
       "      <td>0</td>\n",
       "      <td>23.3</td>\n",
       "      <td>0.672</td>\n",
       "      <td>32</td>\n",
       "      <td>1</td>\n",
       "    </tr>\n",
       "    <tr>\n",
       "      <th>3</th>\n",
       "      <td>1</td>\n",
       "      <td>89</td>\n",
       "      <td>66</td>\n",
       "      <td>23</td>\n",
       "      <td>94</td>\n",
       "      <td>28.1</td>\n",
       "      <td>0.167</td>\n",
       "      <td>21</td>\n",
       "      <td>0</td>\n",
       "    </tr>\n",
       "    <tr>\n",
       "      <th>4</th>\n",
       "      <td>0</td>\n",
       "      <td>137</td>\n",
       "      <td>40</td>\n",
       "      <td>35</td>\n",
       "      <td>168</td>\n",
       "      <td>43.1</td>\n",
       "      <td>2.288</td>\n",
       "      <td>33</td>\n",
       "      <td>1</td>\n",
       "    </tr>\n",
       "    <tr>\n",
       "      <th>...</th>\n",
       "      <td>...</td>\n",
       "      <td>...</td>\n",
       "      <td>...</td>\n",
       "      <td>...</td>\n",
       "      <td>...</td>\n",
       "      <td>...</td>\n",
       "      <td>...</td>\n",
       "      <td>...</td>\n",
       "      <td>...</td>\n",
       "    </tr>\n",
       "    <tr>\n",
       "      <th>103</th>\n",
       "      <td>1</td>\n",
       "      <td>81</td>\n",
       "      <td>72</td>\n",
       "      <td>18</td>\n",
       "      <td>40</td>\n",
       "      <td>26.6</td>\n",
       "      <td>0.283</td>\n",
       "      <td>24</td>\n",
       "      <td>0</td>\n",
       "    </tr>\n",
       "    <tr>\n",
       "      <th>104</th>\n",
       "      <td>2</td>\n",
       "      <td>85</td>\n",
       "      <td>65</td>\n",
       "      <td>0</td>\n",
       "      <td>0</td>\n",
       "      <td>39.6</td>\n",
       "      <td>0.930</td>\n",
       "      <td>27</td>\n",
       "      <td>0</td>\n",
       "    </tr>\n",
       "    <tr>\n",
       "      <th>105</th>\n",
       "      <td>1</td>\n",
       "      <td>126</td>\n",
       "      <td>56</td>\n",
       "      <td>29</td>\n",
       "      <td>152</td>\n",
       "      <td>28.7</td>\n",
       "      <td>0.801</td>\n",
       "      <td>21</td>\n",
       "      <td>0</td>\n",
       "    </tr>\n",
       "    <tr>\n",
       "      <th>106</th>\n",
       "      <td>1</td>\n",
       "      <td>96</td>\n",
       "      <td>122</td>\n",
       "      <td>0</td>\n",
       "      <td>0</td>\n",
       "      <td>22.4</td>\n",
       "      <td>0.207</td>\n",
       "      <td>27</td>\n",
       "      <td>0</td>\n",
       "    </tr>\n",
       "    <tr>\n",
       "      <th>107</th>\n",
       "      <td>4</td>\n",
       "      <td>144</td>\n",
       "      <td>58</td>\n",
       "      <td>28</td>\n",
       "      <td>140</td>\n",
       "      <td>29.5</td>\n",
       "      <td>0.287</td>\n",
       "      <td>37</td>\n",
       "      <td>0</td>\n",
       "    </tr>\n",
       "  </tbody>\n",
       "</table>\n",
       "<p>108 rows × 9 columns</p>\n",
       "</div>"
      ],
      "text/plain": [
       "     Pregnancies  Glucose  BloodPressure  SkinThickness  Insulin   BMI  \\\n",
       "0              6      148             72             35        0  33.6   \n",
       "1              1       85             66             29        0  26.6   \n",
       "2              8      183             64              0        0  23.3   \n",
       "3              1       89             66             23       94  28.1   \n",
       "4              0      137             40             35      168  43.1   \n",
       "..           ...      ...            ...            ...      ...   ...   \n",
       "103            1       81             72             18       40  26.6   \n",
       "104            2       85             65              0        0  39.6   \n",
       "105            1      126             56             29      152  28.7   \n",
       "106            1       96            122              0        0  22.4   \n",
       "107            4      144             58             28      140  29.5   \n",
       "\n",
       "     DiabetesPedigreeFunction  Age  Outcome  \n",
       "0                       0.627   50        1  \n",
       "1                       0.351   31        0  \n",
       "2                       0.672   32        1  \n",
       "3                       0.167   21        0  \n",
       "4                       2.288   33        1  \n",
       "..                        ...  ...      ...  \n",
       "103                     0.283   24        0  \n",
       "104                     0.930   27        0  \n",
       "105                     0.801   21        0  \n",
       "106                     0.207   27        0  \n",
       "107                     0.287   37        0  \n",
       "\n",
       "[108 rows x 9 columns]"
      ]
     },
     "execution_count": 3,
     "metadata": {},
     "output_type": "execute_result"
    }
   ],
   "source": [
    "df"
   ]
  },
  {
   "cell_type": "code",
   "execution_count": 4,
   "metadata": {},
   "outputs": [
    {
     "data": {
      "text/plain": [
       "0    70\n",
       "1    38\n",
       "Name: Outcome, dtype: int64"
      ]
     },
     "execution_count": 4,
     "metadata": {},
     "output_type": "execute_result"
    }
   ],
   "source": [
    "df['Outcome'].value_counts()"
   ]
  },
  {
   "cell_type": "code",
   "execution_count": 5,
   "metadata": {},
   "outputs": [
    {
     "data": {
      "text/plain": [
       "Pregnancies                 0\n",
       "Glucose                     0\n",
       "BloodPressure               0\n",
       "SkinThickness               0\n",
       "Insulin                     0\n",
       "BMI                         0\n",
       "DiabetesPedigreeFunction    0\n",
       "Age                         0\n",
       "Outcome                     0\n",
       "dtype: int64"
      ]
     },
     "execution_count": 5,
     "metadata": {},
     "output_type": "execute_result"
    }
   ],
   "source": [
    "df.isna().sum()"
   ]
  },
  {
   "cell_type": "code",
   "execution_count": 6,
   "metadata": {},
   "outputs": [],
   "source": [
    "# Splitting dataset into train and test set\n",
    "X_train, X_test, Y_train, Y_test = train_test_split(X, Y, test_size = 0.3, random_state = 0)\n",
    "\n",
    "# Model training\t\n",
    "model = LogitRegression(learning_rate = 0.01, iterations = 10000)\n",
    "model.fit(X_train, Y_train)\t\n",
    "Y_train_pred = model.predict(X_train)\n",
    "Y_pred = model.predict(X_test)\t\n",
    "\n",
    "# Sklearn model training\n",
    "model1 = LogisticRegression()\t\n",
    "model1.fit( X_train, Y_train)\n",
    "Y_train_pred1 = model1.predict(X_train)\n",
    "Y_pred1 = model1.predict(X_test)"
   ]
  },
  {
   "cell_type": "code",
   "execution_count": 7,
   "metadata": {},
   "outputs": [
    {
     "name": "stdout",
     "output_type": "stream",
     "text": [
      "Train accuracy of our model:  0.72\n",
      "Test accuracy of our model:  0.5151515151515151 \n",
      "\n",
      "Train accuracy of sklearn model:  0.7866666666666666\n",
      "Test accuracy of sklearn model:  0.5454545454545454\n"
     ]
    }
   ],
   "source": [
    "print(\"Train accuracy of our model: \" , accuracy_score(Y_train, Y_train_pred))\n",
    "print(\"Test accuracy of our model: \" , accuracy_score(Y_test, Y_pred), '\\n')\n",
    "\n",
    "print(\"Train accuracy of sklearn model: \" , accuracy_score(Y_train, Y_train_pred1))\n",
    "print(\"Test accuracy of sklearn model: \" , accuracy_score(Y_test, Y_pred1))"
   ]
  },
  {
   "cell_type": "code",
   "execution_count": 8,
   "metadata": {},
   "outputs": [
    {
     "name": "stdout",
     "output_type": "stream",
     "text": [
      "Train accuracy of our model:  0.5434782608695652\n",
      "Test accuracy of our model:  0.4722222222222222 \n",
      "\n",
      "Train accuracy of sklearn model:  0.7127926421404682\n",
      "Test accuracy of sklearn model:  0.5222222222222223\n"
     ]
    }
   ],
   "source": [
    "print(\"Train accuracy of our model: \" , balanced_accuracy_score(Y_train, Y_train_pred))\n",
    "print(\"Test accuracy of our model: \" , balanced_accuracy_score(Y_test, Y_pred), '\\n')\n",
    "\n",
    "print(\"Train accuracy of sklearn model: \" , balanced_accuracy_score(Y_train, Y_train_pred1))\n",
    "print(\"Test accuracy of sklearn model: \" , balanced_accuracy_score(Y_test, Y_pred1))"
   ]
  },
  {
   "cell_type": "code",
   "execution_count": 9,
   "metadata": {},
   "outputs": [
    {
     "name": "stdout",
     "output_type": "stream",
     "text": [
      "Train accuracy of sklearn model:  0.76\n",
      "Accuracy of sklearn model:  0.6060606060606061\n",
      "Balanced accuracy of sklearn model:  0.5833333333333334\n"
     ]
    }
   ],
   "source": [
    "# Sklearn model with tuned regularization parameter\n",
    "model1 = LogisticRegression(C=0.001)\n",
    "model1.fit( X_train, Y_train)\n",
    "Y_pred1 = model1.predict(X_test)\n",
    "Y_train_pred1 = model1.predict(X_train)\n",
    "\n",
    "print(\"Train accuracy of sklearn model: \" , accuracy_score(Y_train, Y_train_pred1))\n",
    "\n",
    "print(\"Accuracy of sklearn model: \" , accuracy_score(Y_test, Y_pred1))\n",
    "print(\"Balanced accuracy of sklearn model: \" , balanced_accuracy_score(Y_test, Y_pred1))"
   ]
  },
  {
   "cell_type": "code",
   "execution_count": 10,
   "metadata": {},
   "outputs": [],
   "source": [
    "from sklearn.pipeline import Pipeline\n",
    "from sklearn.preprocessing import StandardScaler, PolynomialFeatures, Normalizer, QuantileTransformer, PowerTransformer, SplineTransformer"
   ]
  },
  {
   "cell_type": "code",
   "execution_count": 11,
   "metadata": {},
   "outputs": [],
   "source": [
    "# hint use power of combination of quantile + poly\n",
    "preprocessor = Pipeline(steps=[\n",
    "       #('normalizer', Normalizer()),\n",
    "       #('scaler', StandardScaler()),\n",
    "       ('quantile', QuantileTransformer(output_distribution='normal')),\n",
    "       #('power', PowerTransformer(method='yeo-johnson')),\n",
    "       ('poly', PolynomialFeatures(degree=4, include_bias=False)),\n",
    "       #('spline', SplineTransformer(degree=4, include_bias=False)),\n",
    "])"
   ]
  },
  {
   "cell_type": "code",
   "execution_count": 12,
   "metadata": {},
   "outputs": [],
   "source": [
    "pipeline = Pipeline(steps = [\n",
    "               ('preprocessor', preprocessor)\n",
    "              ,('regressor', LogisticRegression(C=1.0))\n",
    "           ])"
   ]
  },
  {
   "cell_type": "code",
   "execution_count": 13,
   "metadata": {},
   "outputs": [
    {
     "name": "stdout",
     "output_type": "stream",
     "text": [
      "Train accuracy of sklearn model:  1.0\n",
      "Accuracy of sklearn model:  0.696969696969697\n",
      "Balanced accuracy of sklearn model:  0.6888888888888889\n"
     ]
    }
   ],
   "source": [
    "rf_model = pipeline.fit(X_train, Y_train)\n",
    "Y_pred_rf = pipeline.predict(X_test)\n",
    "Y_train_pred1 = pipeline.predict(X_train)\n",
    "\n",
    "print(\"Train accuracy of sklearn model: \" , accuracy_score(Y_train, Y_train_pred1))\n",
    "\n",
    "print(\"Accuracy of sklearn model: \" , accuracy_score(Y_test, Y_pred_rf))\n",
    "print(\"Balanced accuracy of sklearn model: \" , balanced_accuracy_score(Y_test, Y_pred_rf))\n"
   ]
  },
  {
   "cell_type": "markdown",
   "metadata": {},
   "source": [
    "#### Now let's cheat a little bit and use DecisionTreeClassifier from sklearn"
   ]
  },
  {
   "cell_type": "code",
   "execution_count": 14,
   "metadata": {},
   "outputs": [
    {
     "name": "stdout",
     "output_type": "stream",
     "text": [
      "Train accuracy of decision tree model:  0.7733333333333333\n",
      "Test accuracy of decision tree model:  0.7272727272727273\n",
      "Balanced accuracy of of decision tree model:  0.7333333333333334\n"
     ]
    }
   ],
   "source": [
    "from sklearn.tree import DecisionTreeClassifier\n",
    "from sklearn.ensemble import AdaBoostClassifier\n",
    "\n",
    "tree = DecisionTreeClassifier(max_depth=2, random_state=0)\n",
    "tree.fit(X_train, Y_train)\n",
    "Y_train_pred_tree = tree.predict(X_train)\n",
    "print(\"Train accuracy of decision tree model: \" , accuracy_score(Y_train, Y_train_pred_tree))\n",
    "\n",
    "Y_pred_tree = tree.predict(X_test)\n",
    "print(\"Test accuracy of decision tree model: \" , accuracy_score(Y_test, Y_pred_tree))\n",
    "print(\"Balanced accuracy of of decision tree model: \" , balanced_accuracy_score(Y_test, Y_pred_tree))"
   ]
  },
  {
   "cell_type": "code",
   "execution_count": 15,
   "metadata": {},
   "outputs": [
    {
     "name": "stdout",
     "output_type": "stream",
     "text": [
      "Train accuracy of decision tree model:  0.92\n",
      "Test accuracy of Ada boost model:  0.7878787878787878\n",
      "Balanced accuracy of of Ada boost model:  0.7777777777777777\n"
     ]
    }
   ],
   "source": [
    "boostTree = AdaBoostClassifier(n_estimators=10, random_state=0)\n",
    "boostTree.fit(X_train, Y_train)\n",
    "Y_train_pred_boostTree = boostTree.predict(X_train)\n",
    "print(\"Train accuracy of decision tree model: \" , accuracy_score(Y_train, Y_train_pred_boostTree))\n",
    "\n",
    "Y_pred_boostTree = boostTree.predict(X_test)\n",
    "print(\"Test accuracy of Ada boost model: \" , accuracy_score(Y_test, Y_pred_boostTree))\n",
    "print(\"Balanced accuracy of of Ada boost model: \" , balanced_accuracy_score(Y_test, Y_pred_boostTree))"
   ]
  },
  {
   "cell_type": "markdown",
   "metadata": {},
   "source": [
    "## Data science contest"
   ]
  },
  {
   "cell_type": "markdown",
   "metadata": {},
   "source": [
    "Investigate the data in the 'train.csv' and 'test.csv' files, which include the Titanic passengers. The 'train.csv' file contains the data for 891 passengers, and the 'test.csv' file contains the data for 418 passengers. The 'train.csv' file contains the 'Survived' column, which indicates whether the passenger survived or not. The 'test.csv' file does not contain the 'Survived' column. Your task is to predict the 'Survived' column for the 'test.csv' file. Use LogisticRegression model."
   ]
  },
  {
   "cell_type": "code",
   "execution_count": 16,
   "metadata": {},
   "outputs": [],
   "source": [
    "import pandas as pd\n",
    "\n",
    "df_train = pd.read_csv(\"train.csv\")\n",
    "df_test = pd.read_csv(\"test.csv\")"
   ]
  },
  {
   "cell_type": "code",
   "execution_count": 17,
   "metadata": {},
   "outputs": [
    {
     "name": "stdout",
     "output_type": "stream",
     "text": [
      "Shape of the train dataset:  (891, 12)\n",
      "Shape of the test dataset:  (418, 11)\n"
     ]
    }
   ],
   "source": [
    "print(\"Shape of the train dataset: \", df_train.shape)\n",
    "print(\"Shape of the test dataset: \", df_test.shape)"
   ]
  },
  {
   "cell_type": "code",
   "execution_count": 18,
   "metadata": {},
   "outputs": [
    {
     "data": {
      "text/html": [
       "<div>\n",
       "<style scoped>\n",
       "    .dataframe tbody tr th:only-of-type {\n",
       "        vertical-align: middle;\n",
       "    }\n",
       "\n",
       "    .dataframe tbody tr th {\n",
       "        vertical-align: top;\n",
       "    }\n",
       "\n",
       "    .dataframe thead th {\n",
       "        text-align: right;\n",
       "    }\n",
       "</style>\n",
       "<table border=\"1\" class=\"dataframe\">\n",
       "  <thead>\n",
       "    <tr style=\"text-align: right;\">\n",
       "      <th></th>\n",
       "      <th>PassengerId</th>\n",
       "      <th>Survived</th>\n",
       "      <th>Pclass</th>\n",
       "      <th>Name</th>\n",
       "      <th>Sex</th>\n",
       "      <th>Age</th>\n",
       "      <th>SibSp</th>\n",
       "      <th>Parch</th>\n",
       "      <th>Ticket</th>\n",
       "      <th>Fare</th>\n",
       "      <th>Cabin</th>\n",
       "      <th>Embarked</th>\n",
       "    </tr>\n",
       "  </thead>\n",
       "  <tbody>\n",
       "    <tr>\n",
       "      <th>0</th>\n",
       "      <td>1</td>\n",
       "      <td>0</td>\n",
       "      <td>3</td>\n",
       "      <td>Braund, Mr. Owen Harris</td>\n",
       "      <td>male</td>\n",
       "      <td>22.0</td>\n",
       "      <td>1</td>\n",
       "      <td>0</td>\n",
       "      <td>A/5 21171</td>\n",
       "      <td>7.2500</td>\n",
       "      <td>NaN</td>\n",
       "      <td>S</td>\n",
       "    </tr>\n",
       "    <tr>\n",
       "      <th>1</th>\n",
       "      <td>2</td>\n",
       "      <td>1</td>\n",
       "      <td>1</td>\n",
       "      <td>Cumings, Mrs. John Bradley (Florence Briggs Th...</td>\n",
       "      <td>female</td>\n",
       "      <td>38.0</td>\n",
       "      <td>1</td>\n",
       "      <td>0</td>\n",
       "      <td>PC 17599</td>\n",
       "      <td>71.2833</td>\n",
       "      <td>C85</td>\n",
       "      <td>C</td>\n",
       "    </tr>\n",
       "    <tr>\n",
       "      <th>2</th>\n",
       "      <td>3</td>\n",
       "      <td>1</td>\n",
       "      <td>3</td>\n",
       "      <td>Heikkinen, Miss. Laina</td>\n",
       "      <td>female</td>\n",
       "      <td>26.0</td>\n",
       "      <td>0</td>\n",
       "      <td>0</td>\n",
       "      <td>STON/O2. 3101282</td>\n",
       "      <td>7.9250</td>\n",
       "      <td>NaN</td>\n",
       "      <td>S</td>\n",
       "    </tr>\n",
       "    <tr>\n",
       "      <th>3</th>\n",
       "      <td>4</td>\n",
       "      <td>1</td>\n",
       "      <td>1</td>\n",
       "      <td>Futrelle, Mrs. Jacques Heath (Lily May Peel)</td>\n",
       "      <td>female</td>\n",
       "      <td>35.0</td>\n",
       "      <td>1</td>\n",
       "      <td>0</td>\n",
       "      <td>113803</td>\n",
       "      <td>53.1000</td>\n",
       "      <td>C123</td>\n",
       "      <td>S</td>\n",
       "    </tr>\n",
       "    <tr>\n",
       "      <th>4</th>\n",
       "      <td>5</td>\n",
       "      <td>0</td>\n",
       "      <td>3</td>\n",
       "      <td>Allen, Mr. William Henry</td>\n",
       "      <td>male</td>\n",
       "      <td>35.0</td>\n",
       "      <td>0</td>\n",
       "      <td>0</td>\n",
       "      <td>373450</td>\n",
       "      <td>8.0500</td>\n",
       "      <td>NaN</td>\n",
       "      <td>S</td>\n",
       "    </tr>\n",
       "  </tbody>\n",
       "</table>\n",
       "</div>"
      ],
      "text/plain": [
       "   PassengerId  Survived  Pclass  \\\n",
       "0            1         0       3   \n",
       "1            2         1       1   \n",
       "2            3         1       3   \n",
       "3            4         1       1   \n",
       "4            5         0       3   \n",
       "\n",
       "                                                Name     Sex   Age  SibSp  \\\n",
       "0                            Braund, Mr. Owen Harris    male  22.0      1   \n",
       "1  Cumings, Mrs. John Bradley (Florence Briggs Th...  female  38.0      1   \n",
       "2                             Heikkinen, Miss. Laina  female  26.0      0   \n",
       "3       Futrelle, Mrs. Jacques Heath (Lily May Peel)  female  35.0      1   \n",
       "4                           Allen, Mr. William Henry    male  35.0      0   \n",
       "\n",
       "   Parch            Ticket     Fare Cabin Embarked  \n",
       "0      0         A/5 21171   7.2500   NaN        S  \n",
       "1      0          PC 17599  71.2833   C85        C  \n",
       "2      0  STON/O2. 3101282   7.9250   NaN        S  \n",
       "3      0            113803  53.1000  C123        S  \n",
       "4      0            373450   8.0500   NaN        S  "
      ]
     },
     "execution_count": 18,
     "metadata": {},
     "output_type": "execute_result"
    }
   ],
   "source": [
    "df_train.head()"
   ]
  },
  {
   "cell_type": "code",
   "execution_count": 19,
   "metadata": {},
   "outputs": [
    {
     "data": {
      "text/html": [
       "<div>\n",
       "<style scoped>\n",
       "    .dataframe tbody tr th:only-of-type {\n",
       "        vertical-align: middle;\n",
       "    }\n",
       "\n",
       "    .dataframe tbody tr th {\n",
       "        vertical-align: top;\n",
       "    }\n",
       "\n",
       "    .dataframe thead th {\n",
       "        text-align: right;\n",
       "    }\n",
       "</style>\n",
       "<table border=\"1\" class=\"dataframe\">\n",
       "  <thead>\n",
       "    <tr style=\"text-align: right;\">\n",
       "      <th></th>\n",
       "      <th>PassengerId</th>\n",
       "      <th>Pclass</th>\n",
       "      <th>Name</th>\n",
       "      <th>Sex</th>\n",
       "      <th>Age</th>\n",
       "      <th>SibSp</th>\n",
       "      <th>Parch</th>\n",
       "      <th>Ticket</th>\n",
       "      <th>Fare</th>\n",
       "      <th>Cabin</th>\n",
       "      <th>Embarked</th>\n",
       "    </tr>\n",
       "  </thead>\n",
       "  <tbody>\n",
       "    <tr>\n",
       "      <th>0</th>\n",
       "      <td>892</td>\n",
       "      <td>3</td>\n",
       "      <td>Kelly, Mr. James</td>\n",
       "      <td>male</td>\n",
       "      <td>34.5</td>\n",
       "      <td>0</td>\n",
       "      <td>0</td>\n",
       "      <td>330911</td>\n",
       "      <td>7.8292</td>\n",
       "      <td>NaN</td>\n",
       "      <td>Q</td>\n",
       "    </tr>\n",
       "    <tr>\n",
       "      <th>1</th>\n",
       "      <td>893</td>\n",
       "      <td>3</td>\n",
       "      <td>Wilkes, Mrs. James (Ellen Needs)</td>\n",
       "      <td>female</td>\n",
       "      <td>47.0</td>\n",
       "      <td>1</td>\n",
       "      <td>0</td>\n",
       "      <td>363272</td>\n",
       "      <td>7.0000</td>\n",
       "      <td>NaN</td>\n",
       "      <td>S</td>\n",
       "    </tr>\n",
       "    <tr>\n",
       "      <th>2</th>\n",
       "      <td>894</td>\n",
       "      <td>2</td>\n",
       "      <td>Myles, Mr. Thomas Francis</td>\n",
       "      <td>male</td>\n",
       "      <td>62.0</td>\n",
       "      <td>0</td>\n",
       "      <td>0</td>\n",
       "      <td>240276</td>\n",
       "      <td>9.6875</td>\n",
       "      <td>NaN</td>\n",
       "      <td>Q</td>\n",
       "    </tr>\n",
       "    <tr>\n",
       "      <th>3</th>\n",
       "      <td>895</td>\n",
       "      <td>3</td>\n",
       "      <td>Wirz, Mr. Albert</td>\n",
       "      <td>male</td>\n",
       "      <td>27.0</td>\n",
       "      <td>0</td>\n",
       "      <td>0</td>\n",
       "      <td>315154</td>\n",
       "      <td>8.6625</td>\n",
       "      <td>NaN</td>\n",
       "      <td>S</td>\n",
       "    </tr>\n",
       "    <tr>\n",
       "      <th>4</th>\n",
       "      <td>896</td>\n",
       "      <td>3</td>\n",
       "      <td>Hirvonen, Mrs. Alexander (Helga E Lindqvist)</td>\n",
       "      <td>female</td>\n",
       "      <td>22.0</td>\n",
       "      <td>1</td>\n",
       "      <td>1</td>\n",
       "      <td>3101298</td>\n",
       "      <td>12.2875</td>\n",
       "      <td>NaN</td>\n",
       "      <td>S</td>\n",
       "    </tr>\n",
       "  </tbody>\n",
       "</table>\n",
       "</div>"
      ],
      "text/plain": [
       "   PassengerId  Pclass                                          Name     Sex  \\\n",
       "0          892       3                              Kelly, Mr. James    male   \n",
       "1          893       3              Wilkes, Mrs. James (Ellen Needs)  female   \n",
       "2          894       2                     Myles, Mr. Thomas Francis    male   \n",
       "3          895       3                              Wirz, Mr. Albert    male   \n",
       "4          896       3  Hirvonen, Mrs. Alexander (Helga E Lindqvist)  female   \n",
       "\n",
       "    Age  SibSp  Parch   Ticket     Fare Cabin Embarked  \n",
       "0  34.5      0      0   330911   7.8292   NaN        Q  \n",
       "1  47.0      1      0   363272   7.0000   NaN        S  \n",
       "2  62.0      0      0   240276   9.6875   NaN        Q  \n",
       "3  27.0      0      0   315154   8.6625   NaN        S  \n",
       "4  22.0      1      1  3101298  12.2875   NaN        S  "
      ]
     },
     "execution_count": 19,
     "metadata": {},
     "output_type": "execute_result"
    }
   ],
   "source": [
    "df_test.head()"
   ]
  },
  {
   "cell_type": "code",
   "execution_count": null,
   "metadata": {},
   "outputs": [],
   "source": []
  }
 ],
 "metadata": {
  "kernelspec": {
   "display_name": "Python 3.9.4 ('ML_pytorch')",
   "language": "python",
   "name": "python3"
  },
  "language_info": {
   "codemirror_mode": {
    "name": "ipython",
    "version": 3
   },
   "file_extension": ".py",
   "mimetype": "text/x-python",
   "name": "python",
   "nbconvert_exporter": "python",
   "pygments_lexer": "ipython3",
   "version": "3.9.4"
  },
  "orig_nbformat": 4,
  "vscode": {
   "interpreter": {
    "hash": "929619df38edafcb639067bc1593fc1a1a9b049525cf7e96331131a0abd5060a"
   }
  }
 },
 "nbformat": 4,
 "nbformat_minor": 2
}
