{
 "cells": [
  {
   "cell_type": "markdown",
   "metadata": {},
   "source": [
    "## Numpy + Pandas introduction"
   ]
  },
  {
   "cell_type": "markdown",
   "metadata": {},
   "source": [
    "This notebook is a quick introduction to the numpy and pandas libraries. It is intended to be a quick reference for the most common operations."
   ]
  },
  {
   "cell_type": "markdown",
   "metadata": {},
   "source": [
    "The first thing we need to do is import the libraries. We will use the standard aliases for these libraries, `np` and `pd`.\n",
    "\n",
    "```python"
   ]
  },
  {
   "cell_type": "code",
   "execution_count": 2,
   "metadata": {},
   "outputs": [],
   "source": [
    "import numpy as np\n",
    "import pandas as pd"
   ]
  },
  {
   "cell_type": "markdown",
   "metadata": {},
   "source": [
    "### Task 1 (1 point)\n",
    "Create 2 1D random integer (0, 100) numpy arrays of size 100, then create new array by choosing elements that appear in both arrays. Then replace all elements that are less than 50 with 0 and all elements that are greater than 50 with 1. Finally, calculate the mean of the resulting array."
   ]
  },
  {
   "cell_type": "code",
   "execution_count": 19,
   "metadata": {},
   "outputs": [
    {
     "name": "stdout",
     "output_type": "stream",
     "text": [
      "0.4418604651162791\n"
     ]
    }
   ],
   "source": [
    "a  = np.random.randint(0, 100, 100)\n",
    "b = np.random.randint(0, 100, 100)\n",
    "c = np.intersect1d(a,b)\n",
    "c = np.where(c < 50, 0, 1)\n",
    "print(np.mean(c))"
   ]
  },
  {
   "cell_type": "markdown",
   "metadata": {},
   "source": [
    "### Task 2 (1 point)\n",
    "Construct the following block matrix (without explicitly writing it!):\n",
    "```\n",
    "[[10, 10, 10, 10, 10, 1,  0,  0,  0,  0],\n",
    " [10, 10, 10, 10, 10, 0,  1,  0,  0,  0],\n",
    " [10, 10, 10, 10, 10, 0,  0,  1,  0,  0],\n",
    " [10, 10, 10, 10, 10, 0,  0,  0,  1,  0],\n",
    " [10, 10, 10, 10, 10, 0,  0,  0,  0,  1],\n",
    " [ 1,  0,  0,  0,  0, 10, 10, 10, 10, 10],\n",
    " [ 0,  1,  0,  0,  0, 10, 10, 10, 10, 10],\n",
    " [ 0,  0,  1,  0,  0, 10, 10, 10, 10, 10],\n",
    " [ 0,  0,  0,  1,  0, 10, 10, 10, 10, 10],\n",
    " [ 0,  0,  0,  0,  1, 10, 10, 10, 10, 10]]\n",
    "```\n",
    "Then calculate its determinant."
   ]
  },
  {
   "cell_type": "code",
   "execution_count": 42,
   "metadata": {},
   "outputs": [
    {
     "name": "stdout",
     "output_type": "stream",
     "text": [
      "[[10. 10. 10. 10. 10.  1.  0.  0.  0.  0.]\n",
      " [10. 10. 10. 10. 10.  0.  1.  0.  0.  0.]\n",
      " [10. 10. 10. 10. 10.  0.  0.  1.  0.  0.]\n",
      " [10. 10. 10. 10. 10.  0.  0.  0.  1.  0.]\n",
      " [10. 10. 10. 10. 10.  0.  0.  0.  0.  1.]\n",
      " [ 1.  0.  0.  0.  0. 10. 10. 10. 10. 10.]\n",
      " [ 0.  1.  0.  0.  0. 10. 10. 10. 10. 10.]\n",
      " [ 0.  0.  1.  0.  0. 10. 10. 10. 10. 10.]\n",
      " [ 0.  0.  0.  1.  0. 10. 10. 10. 10. 10.]\n",
      " [ 0.  0.  0.  0.  1. 10. 10. 10. 10. 10.]]\n",
      "2499.000000000004\n"
     ]
    }
   ],
   "source": [
    "a = 10*np.ones((5, 5))\n",
    "b = np.eye(5)\n",
    "c = np.kron(np.eye(2), a) + np.kron(np.eye(2)[::-1], b)\n",
    "print(c)\n",
    "print(np.linalg.det(c))"
   ]
  },
  {
   "cell_type": "markdown",
   "metadata": {},
   "source": [
    "### Task 3 (1 point)\n",
    "Replace all nan values with the mean of the array. Then normalize the array by subtracting the mean and dividing by the standard deviation."
   ]
  },
  {
   "cell_type": "code",
   "execution_count": 17,
   "metadata": {},
   "outputs": [
    {
     "name": "stdout",
     "output_type": "stream",
     "text": [
      "[-1.80739223 -1.42009389 -1.03279556  0.         -0.25819889  0.12909944\n",
      "  0.51639778  0.          0.90369611  1.29099445  1.67829278  0.        ]\n"
     ]
    }
   ],
   "source": [
    "a = np.array([1,2,3,np.nan,5,6,7,np.nan,8,9,10,np.nan])\n",
    "a[np.isnan(a)] = np.mean(a[~np.isnan(a)])\n",
    "a = (a - np.mean(a)) / np.std(a)\n",
    "print(a)"
   ]
  },
  {
   "cell_type": "markdown",
   "metadata": {},
   "source": [
    "### Task 4 (2 points)\n",
    "Generate 1000 x 1000 numpy random array. Then fill some random elements with nans. Then replace all nan values with the mean of the array. Finally save the array to a file, simulataneously saving the labels for each element. The labels should be calculated as follows: if the element is greater than 70% of all numbers in the array, then the label is equal to 1, otherwise the label is 0. The labels should be saved in a separate file."
   ]
  },
  {
   "cell_type": "code",
   "execution_count": 21,
   "metadata": {},
   "outputs": [
    {
     "name": "stdout",
     "output_type": "stream",
     "text": [
      "[[8.77832594e-02 9.58256034e-02 2.77336524e-01 ... 9.98532122e+01\n",
      "  9.98616953e+01 9.99901002e+01]\n",
      " [1.04112935e-02 9.35591048e-02 2.12325820e-01 ... 9.99061533e+01\n",
      "  9.99277998e+01 9.99585248e+01]\n",
      " [1.35955629e-01 1.57555911e-01 1.74426940e-01 ... 9.96688562e+01\n",
      "  9.97392602e+01 9.99535375e+01]\n",
      " ...\n",
      " [3.22272555e-02 8.94016744e-02 3.14773968e-01 ... 9.98513527e+01\n",
      "  9.98858927e+01 9.99681922e+01]\n",
      " [6.32194986e-03 2.68424955e-02 1.29943390e-01 ... 9.93178029e+01\n",
      "  9.97417596e+01 9.98866333e+01]\n",
      " [5.19759465e-02 2.60742096e-01 4.90757031e-01 ... 9.93831759e+01\n",
      "  9.97960476e+01 9.98347742e+01]]\n",
      "[[0 0 0 ... 1 0 1]\n",
      " [0 0 0 ... 1 0 0]\n",
      " [1 0 0 ... 0 0 0]\n",
      " ...\n",
      " [0 0 0 ... 1 0 0]\n",
      " [0 0 0 ... 0 0 0]\n",
      " [0 1 1 ... 0 0 0]]\n"
     ]
    }
   ],
   "source": [
    "a = np.random.uniform(0, 100, size=(1000, 1000))\n",
    "a[np.random.randint(0, 1000, size=1000), np.random.randint(0, 1000, size=1000)] = np.nan\n",
    "a[np.isnan(a)] = np.mean(a[~np.isnan(a)])\n",
    "a = np.sort(a, axis=1)\n",
    "border = a[int(len(a) * 0.7)]\n",
    "labels = np.where(a < border, 0, 1)\n",
    "np.save('labels.npy', labels)\n",
    "np.save('data.npy', a)\n",
    "print(np.load('data.npy'))\n",
    "print(np.load('labels.npy'))"
   ]
  }
 ],
 "metadata": {
  "kernelspec": {
   "display_name": "Python 3.9.4 ('ML_pytorch')",
   "language": "python",
   "name": "python3"
  },
  "language_info": {
   "codemirror_mode": {
    "name": "ipython",
    "version": 3
   },
   "file_extension": ".py",
   "mimetype": "text/x-python",
   "name": "python",
   "nbconvert_exporter": "python",
   "pygments_lexer": "ipython3",
   "version": "3.9.4"
  },
  "orig_nbformat": 4,
  "vscode": {
   "interpreter": {
    "hash": "929619df38edafcb639067bc1593fc1a1a9b049525cf7e96331131a0abd5060a"
   }
  }
 },
 "nbformat": 4,
 "nbformat_minor": 2
}
